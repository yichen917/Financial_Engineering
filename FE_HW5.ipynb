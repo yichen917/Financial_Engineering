{
  "nbformat": 4,
  "nbformat_minor": 0,
  "metadata": {
    "kernelspec": {
      "display_name": "Python 3",
      "language": "python",
      "name": "python3"
    },
    "language_info": {
      "codemirror_mode": {
        "name": "ipython",
        "version": 3
      },
      "file_extension": ".py",
      "mimetype": "text/x-python",
      "name": "python",
      "nbconvert_exporter": "python",
      "pygments_lexer": "ipython3",
      "version": "3.7.3"
    },
    "colab": {
      "provenance": []
    },
    "accelerator": "TPU"
  },
  "cells": [
    {
      "cell_type": "code",
      "metadata": {
        "id": "z0K4FemsXQCz"
      },
      "source": [
        "import numpy as np\n",
        "import pandas as pd"
      ],
      "execution_count": null,
      "outputs": []
    },
    {
      "cell_type": "markdown",
      "metadata": {
        "id": "tzNCp_QxLKmN"
      },
      "source": [
        "### Monte Carlo"
      ]
    },
    {
      "cell_type": "code",
      "metadata": {
        "id": "D55VJH-DLTkV"
      },
      "source": [
        "def Monte_Carlo():\n",
        "    mean_arr = -np.ones(d['rep_num'])\n",
        "    max_list = []\n",
        "\n",
        "    for i in range(d['rep_num']):\n",
        "        chosen_matrix = np.zeros((d['sim_num'], d['n']+1))\n",
        "        chosen_matrix[:,0] = np.log(d['St'])\n",
        "\n",
        "        S_change_mean = (d['r']-d['q']-(d['sigma']**2)/2)*d['delta_t']\n",
        "        S_std = d['sigma'] * np.sqrt(d['delta_t'])\n",
        "\n",
        "        for t in range(1, d['n']+1):\n",
        "          change_arr = np.random.normal(S_change_mean, S_std, d['sim_num'])\n",
        "          chosen_matrix[:, t] = chosen_matrix[:, t-1] + change_arr\n",
        "        chosen_matrix = np.exp(chosen_matrix)\n",
        "\n",
        "        if d['n_before_t'] != 0:\n",
        "          before_matrix = np.full((d['sim_num'], d['n_before_t']), d['Save_t'])\n",
        "          all_matrix = np.concatenate((before_matrix,chosen_matrix), axis=1)\n",
        "          #print(all_matrix)\n",
        "          #print(all_matrix.shape)\n",
        "        else:\n",
        "          all_matrix = chosen_matrix\n",
        "\n",
        "        ave_arr = np.average(all_matrix, axis=1)\n",
        "        #print(\"ave_arr\\n\", ave_arr)\n",
        "        #print(\"ave_arr shape \", ave_arr.shape)\n",
        "        payoff = np.max((np.zeros(d['sim_num']), ave_arr - d['K']), axis=0)\n",
        "        #print(\"payoff array:\\n\", payoff)\n",
        "        #print(\"payoff shape\", payoff.shape)\n",
        "        mean_arr[i] = payoff.mean() *np.exp(-d['r'] * (d['T'] - d['t']))\n",
        "    if any(m < 0 for m in mean_arr):\n",
        "        print(\"There is negative element in mean_arr.\")\n",
        "    return mean_arr.mean(), mean_arr.std()"
      ],
      "execution_count": null,
      "outputs": []
    },
    {
      "cell_type": "markdown",
      "metadata": {
        "id": "meavTbsKKGJs"
      },
      "source": [
        "### Tree"
      ]
    },
    {
      "cell_type": "code",
      "metadata": {
        "id": "lAP-g2arJhiO"
      },
      "source": [
        "def find_call(target_A, A1, A2, c1, c2):\n",
        "  #print(\"Find call------------------\")\n",
        "  #print(target_A, A1, A2, c1, c2)\n",
        "  w1 = (A1 - target_A)/(A1 - A2)\n",
        "  w2 = (target_A - A2)/(A1 - A2)\n",
        "  return w1 * c2 + w2 * c1"
      ],
      "execution_count": null,
      "outputs": []
    },
    {
      "cell_type": "code",
      "metadata": {
        "id": "sFkT88TxXQD7"
      },
      "source": [
        "class S_node():\n",
        "    def __init__(self, S):\n",
        "      self.S = S\n",
        "      self.K = d['K']\n",
        "      self.ave_list = np.array([0])\n",
        "      self.value_EC = []\n",
        "      self.value_AC = []\n",
        "      self.Au_list = []\n",
        "      self.Ad_list = []\n",
        "    def set_ave_list(self, A_list):\n",
        "      self.ave_list = A_list\n",
        "\n",
        "    def add_call_price(self, Au, Ad, p, u_node, d_node, k_pos):\n",
        "      self.Au_list.append(Au)\n",
        "      self.Ad_list.append(Ad)\n",
        "      # Au\n",
        "      found = False\n",
        "      if len(u_node.ave_list) == 1:\n",
        "        EC_u = u_node.value_EC[0]\n",
        "        AC_u = u_node.value_AC[0]\n",
        "        found = True\n",
        "      else:\n",
        "        for k in range(d['M']+1):\n",
        "          #print(\"Au, compare_A = \", Au, u_node.ave_list[k])\n",
        "          if Au == u_node.ave_list[k]:\n",
        "            EC_u = u_node.value_EC[k]\n",
        "            AC_u = u_node.value_AC[k]\n",
        "            found = True\n",
        "            #print(\"Find the same item at k = \", k)\n",
        "            #print(\"EC_u = %f, AC_u = %f\" % (EC_u, AC_u))\n",
        "            break\n",
        "          elif Au > u_node.ave_list[k]:\n",
        "            # print(\"k = \", k)\n",
        "            found = True\n",
        "            EC_u = find_call(Au, A1=u_node.ave_list[k-1], A2=u_node.ave_list[k], c1=u_node.value_EC[k-1], c2=u_node.value_EC[k])\n",
        "            AC_u = find_call(Au, A1=u_node.ave_list[k-1], A2=u_node.ave_list[k], c1=u_node.value_AC[k-1], c2=u_node.value_AC[k])\n",
        "            #print(\"Find the smaller item at k = \", k)\n",
        "            #print(\"EC_u = %f, AC_u = %f\" % (EC_u, AC_u))\n",
        "            break\n",
        "      if not found:\n",
        "        EC_u =  u_node.value_EC[d['M']]\n",
        "        AC_u =  u_node.value_AC[d['M']]\n",
        "        #print(\"not found C_u\")\n",
        "        #print(\"Au = \", Au, \"min u_node = \", u_node.ave_list[d['M']])\n",
        "      #Av\n",
        "      found = False\n",
        "      if len(d_node.ave_list) == 1:\n",
        "        EC_d = d_node.value_EC[0]\n",
        "        AC_d = d_node.value_AC[0]\n",
        "        found = True\n",
        "      else:\n",
        "        for k in range(d['M']+1):\n",
        "          #print(\"Ad, compare_A = \", Ad, d_node.ave_list[k])\n",
        "          if Ad == d_node.ave_list[k]:\n",
        "            #print(\"Find the same item at k = \", k)\n",
        "            EC_d = d_node.value_EC[k]\n",
        "            AC_d = d_node.value_AC[k]\n",
        "            found = True\n",
        "            #print(\"EC_d = %f, AC_d = %f\" % (EC_d, AC_d))\n",
        "            break\n",
        "          elif Ad > d_node.ave_list[k]:\n",
        "            #print(\"Find smaller item at k = \", k)\n",
        "            EC_d = find_call(Ad, A1=d_node.ave_list[k-1], A2=d_node.ave_list[k], c1=d_node.value_EC[k-1], c2=d_node.value_EC[k])\n",
        "            AC_d = find_call(Ad, A1=d_node.ave_list[k-1], A2=d_node.ave_list[k], c1=d_node.value_AC[k-1], c2=d_node.value_AC[k])\n",
        "            found = True\n",
        "            #print(\"EC_d = %f, AC_d = %f\" % (EC_d, AC_d))\n",
        "            break\n",
        "      if not found:\n",
        "        EC_d =  u_node.value_EC[d['M']]\n",
        "        AC_d =  u_node.value_AC[d['M']]\n",
        "      #print(\"found = \", found)\n",
        "      #print(\"EC_u = %f, EC_d = %f, AC_u = %f, AC_d = %f\" % (EC_u, EC_d, AC_u, AC_d))\n",
        "      exercise_value = np.max((self.ave_list[k_pos] - d['K'], 0))\n",
        "      holding_value = (p * AC_u + (1-p) * AC_d) * np.exp(-d['r'] * d['delta_t'])\n",
        "      AC_value = np.max((exercise_value, holding_value))\n",
        "      #print(\"exercise and holding value\", exercise_value, holding_value)\n",
        "      self.value_EC.append((p * EC_u + (1-p) * EC_d) * np.exp(-d['r'] * d['delta_t']))\n",
        "      self.value_AC.append(AC_value)\n",
        "      del EC_u, EC_d, AC_u, AC_d\n",
        "    def print(self):\n",
        "      print(\"S = %4f\" % self.S)\n",
        "      print(\"S_ave list = \", end = '')\n",
        "      print(self.ave_list)\n",
        "      print(\"value_EC = \", end = '')\n",
        "      print(self.value_EC)\n",
        "      print(\"value_AC = \", end = '')\n",
        "      print(self.value_AC)\n",
        "      print(\"Au_list = \", end = '')\n",
        "      print(self.Au_list)\n",
        "      print(\"Ad_list = \", end = '')\n",
        "      print(self.Ad_list)"
      ],
      "execution_count": null,
      "outputs": []
    },
    {
      "cell_type": "code",
      "metadata": {
        "id": "GEDQ8yabXQEI"
      },
      "source": [
        "class Binomial_tree():\n",
        "    def __init__(self):\n",
        "        self.u = np.exp(d['sigma'] * np.sqrt(d['delta_t']))\n",
        "        self.d = np.exp(-d['sigma'] * np.sqrt(d['delta_t']))\n",
        "        self.p = (np.exp((d['r'] -d['q'])*d['delta_t']) - self.d)/(self.u - self.d)\n",
        "        self.K = d['K']\n",
        "        self.St = d['St']\n",
        "\n",
        "    def build_tree(self, spaced = \"linear\"):\n",
        "        self.nodes = []\n",
        "        start_node = S_node(d['St'])\n",
        "        start_node.set_ave_list(np.array([d['St']]))\n",
        "        self.nodes.append([start_node])\n",
        "\n",
        "        u_list = []\n",
        "        d_list = []\n",
        "        for i in range(d['n']):\n",
        "            u_list.append(self.u ** (i+1))\n",
        "            d_list.append(self.d ** (i+1))\n",
        "\n",
        "        for i in range(1, d['n']+1):\n",
        "            self.nodes.append([])\n",
        "            for j in range(i+1):\n",
        "                a = i-j # new_S = St * u**(i-j) * d**(j)}\n",
        "                b = j\n",
        "                if a > b:\n",
        "                    new_S = u_list[a-b-1] * d['St']\n",
        "                elif a < b:\n",
        "                    new_S = d_list[b-a-1] * d['St']\n",
        "                else: # a==b\n",
        "                    new_S = d['St']\n",
        "                print(\"i = %d, j = %d\" % (i,j))\n",
        "                new_node = S_node(new_S)\n",
        "                A_max = ((d['n_before_t']+1) * d['Save_t'] + self.St * self.u * (1 - self.u**a)/(1 - self.u) + \\\n",
        "                         self.St * (self.u**a) * self.d * (1 - self.d**j)/(1 - self.d))/(i+d['n_before_t']+1)\n",
        "                A_min = ((d['n_before_t']+1) * d['Save_t'] + self.St * self.d * (1 - self.d**j)/(1 - self.d) + \\\n",
        "                         self.St * (self.d**j) * self.u * (1 - self.u**a)/(1 - self.u))/(i+d['n_before_t']+1)\n",
        "                print(\"A_max = %f, A_min = %f\" % (A_max, A_min))\n",
        "                if A_max == A_min:\n",
        "                  A_list = np.array([A_max])\n",
        "                else:\n",
        "                  if spaced == \"linear\":\n",
        "                    A_list = np.concatenate((np.arange(A_max,A_min,(A_min - A_max)/d['M']), np.array([A_min])))\n",
        "                  else:\n",
        "                    log_max = np.log(A_max)\n",
        "                    log_min = np.log(A_min)\n",
        "                    temp = np.exp(np.arange(log_max, log_min, (log_min - log_max)/d['M']))\n",
        "                    #print(temp)\n",
        "                    A_list = np.concatenate([temp, np.array([A_min])])\n",
        "                #print(\"A_list : \", A_list)\n",
        "                new_node.set_ave_list(A_list)\n",
        "                self.nodes[i].append(new_node)\n",
        "                # (self.nodes[i][j]).print()\n",
        "\n",
        "    def backward_induction(self):\n",
        "        discnt = np.exp(- d['r'] * d['delta_t'])\n",
        "        for i in range(d['n'],-1,-1):\n",
        "          for j in range(len(self.nodes[i])):\n",
        "            cur_node = self.nodes[i][j]\n",
        "            if i == d['n']:\n",
        "              zero_arr = np.zeros(len(cur_node.ave_list))\n",
        "              # print(\"zero arr\", end='')\n",
        "              # print(zero_arr)\n",
        "              cur_node.value_EC = np.max((cur_node.ave_list- self.K, zero_arr), axis=0).tolist()\n",
        "              cur_node.value_AC = np.max((cur_node.ave_list- self.K, zero_arr), axis=0).tolist()\n",
        "              # print(\"cur_node.value_EC = \", end = '')\n",
        "              # print(cur_node.value_EC)\n",
        "            else:\n",
        "              #print(\"-------------------------------------------\")\n",
        "              #print(\"i = %d, j = %d\" % (i,j))\n",
        "              for k in range(len(cur_node.ave_list)):\n",
        "                Au = ((i+d['n_before_t']+1) * cur_node.ave_list[k] + self.St * self.u**(i+1-j) * self.d**j)/(i+d['n_before_t']+2)\n",
        "                Ad = ((i+d['n_before_t']+1) * cur_node.ave_list[k] + self.St * self.u**(i+1-j-1) * self.d**(j+1))/(i+d['n_before_t']+2)\n",
        "                #print(\"i, j, k = \", i, j, k)\n",
        "                #print(\"Au = \", Au, \", Ad = \", Ad)\n",
        "                cur_node.add_call_price(Au = Au, Ad = Ad, p = self.p, u_node = self.nodes[i+1][j], d_node = self.nodes[i+1][j+1], k_pos = k)\n",
        "\n",
        "        self.price_EC = self.nodes[0][0].value_EC[0]\n",
        "        self.price_AC = self.nodes[0][0].value_AC[0]\n",
        "\n",
        "    def print(self):\n",
        "        for i in range(len(self.nodes)):\n",
        "          for j in range(len(self.nodes[i])):\n",
        "            print(\"i, j = %d, %d\" % (i,j))\n",
        "            self.nodes[i][j].print()"
      ],
      "execution_count": null,
      "outputs": []
    },
    {
      "cell_type": "markdown",
      "metadata": {
        "id": "tWlLw1zXKNZV"
      },
      "source": [
        "### Demo"
      ]
    },
    {
      "cell_type": "code",
      "metadata": {
        "id": "3Z_twsMOXQDG",
        "colab": {
          "base_uri": "https://localhost:8080/",
          "height": 260
        },
        "outputId": "7c5a60bd-f38c-4faa-b718-78b4244dbc00"
      },
      "source": [
        "# Read files\n",
        "d = {}\n",
        "\n",
        "with open('HW5_params_2.txt','r') as file:\n",
        "    line = file.readline().strip('\\n')\n",
        "    while line:\n",
        "        key, value = line.split('=')[0], float(line.split('=')[1])\n",
        "        d[key] = value\n",
        "        line = file.readline().strip('\\n')\n",
        "d['n'] = int(d['n'])\n",
        "d['M'] = int(d['M'])\n",
        "d['sim_num'] = int(d['sim_num'])\n",
        "d['rep_num'] = int(d['rep_num'])\n",
        "d['delta_t'] = (d['T'] - d['t'])/d['n']\n",
        "d['n_before_t'] = int(d['n'] * (d['t'] / (d['T'] - d['t'])))\n",
        "d"
      ],
      "execution_count": null,
      "outputs": [
        {
          "output_type": "execute_result",
          "data": {
            "text/plain": [
              "{'K': 50.0,\n",
              " 'M': 3,\n",
              " 'Save_t': 50.0,\n",
              " 'St': 50.0,\n",
              " 'T': 0.5,\n",
              " 'delta_t': 0.08333333333333333,\n",
              " 'n': 3,\n",
              " 'n_before_t': 3,\n",
              " 'q': 0.05,\n",
              " 'r': 0.1,\n",
              " 'rep_num': 20,\n",
              " 'sigma': 0.8,\n",
              " 'sim_num': 10000,\n",
              " 't': 0.25}"
            ]
          },
          "metadata": {
            "tags": []
          },
          "execution_count": 8
        }
      ]
    },
    {
      "cell_type": "code",
      "metadata": {
        "id": "XN3dCss_PV0_",
        "colab": {
          "base_uri": "https://localhost:8080/",
          "height": 416
        },
        "outputId": "3daa9b2a-41c8-4c3f-9518-3f7027406cc2"
      },
      "source": [
        "%%time\n",
        "sim_mean, sim_std = Monte_Carlo()\n",
        "print(\"Monte Carlo:  EC price = %4f, and the C.I. = [%4f, %4f]\"%(sim_mean, sim_mean - 2*sim_std, sim_mean + 2*sim_std))\n",
        "BTree = Binomial_tree()\n",
        "BTree.build_tree()\n",
        "BTree.backward_induction()\n",
        "print(\"Binomial tree model: EC price = %4f, and AC price = %4f\\n\" % (BTree.price_EC, BTree.price_AC))"
      ],
      "execution_count": null,
      "outputs": [
        {
          "output_type": "stream",
          "text": [
            "Monte Carlo:  EC price = 2.500438, and the C.I. = [2.413165, 2.587710]\n",
            "i = 1, j = 0\n",
            "A_max = 52.597838, A_min = 52.597838\n",
            "i = 1, j = 1\n",
            "A_max = 47.937870, A_min = 47.937870\n",
            "i = 2, j = 0\n",
            "A_max = 57.056991, A_min = 57.056991\n",
            "i = 2, j = 1\n",
            "A_max = 52.164865, A_min = 48.281558\n",
            "i = 2, j = 2\n",
            "A_max = 45.199040, A_min = 45.199040\n",
            "i = 3, j = 0\n",
            "A_max = 63.187038, A_min = 63.187038\n",
            "i = 3, j = 1\n",
            "A_max = 57.904448, A_min = 50.382649\n",
            "i = 3, j = 2\n",
            "A_max = 50.382649, A_min = 44.411942\n",
            "i = 3, j = 3\n",
            "A_max = 42.314631, A_min = 42.314631\n",
            "Binomial tree model: EC price = 2.542673, and AC price = 2.614542\n",
            "\n",
            "CPU times: user 67.3 ms, sys: 1.01 ms, total: 68.3 ms\n",
            "Wall time: 70.7 ms\n"
          ],
          "name": "stdout"
        }
      ]
    },
    {
      "cell_type": "markdown",
      "metadata": {
        "id": "izMODAyiPiAv"
      },
      "source": [
        "### Bonus 1"
      ]
    },
    {
      "cell_type": "code",
      "metadata": {
        "id": "VDLVsnJw7Vzq",
        "colab": {
          "base_uri": "https://localhost:8080/",
          "height": 35
        },
        "outputId": "1947e503-b449-4b09-b549-b99af2173fac"
      },
      "source": [
        "M_list = np.arange(50, 350, 50)\n",
        "M_list"
      ],
      "execution_count": null,
      "outputs": [
        {
          "output_type": "execute_result",
          "data": {
            "text/plain": [
              "array([ 50, 100, 150, 200, 250, 300])"
            ]
          },
          "metadata": {
            "tags": []
          },
          "execution_count": 23
        }
      ]
    },
    {
      "cell_type": "code",
      "metadata": {
        "id": "IHMs0XsvXQEU",
        "colab": {
          "base_uri": "https://localhost:8080/",
          "height": 355
        },
        "outputId": "f031565a-e65f-47fc-bd4d-33503c82e2eb"
      },
      "source": [
        "Tree_EC_1 = []\n",
        "Tree_AC_1 = []\n",
        "\n",
        "sim_mean, sim_std = Monte_Carlo()\n",
        "print(\"Monte Carlo:  EC price = %4f, and the C.I. = [%4f, %4f]\"%(sim_mean, sim_mean - 2*sim_std, sim_mean + 2*sim_std))\n",
        "\n",
        "for i in range(len(M_list)):\n",
        "  d['M'] = M_list[i]\n",
        "  print(\"M = %d\" % d['M'])\n",
        "  BTree_1 = Binomial_tree()\n",
        "  BTree_1.build_tree(spaced = 'linear')\n",
        "  BTree_1.backward_induction()\n",
        "  Tree_EC_1.append(BTree_1.price_EC)\n",
        "  Tree_AC_1.append(BTree_1.price_AC)\n",
        "  print(\"Binomial tree model: EC price = %4f, and AC price = %4f\\n\" % (BTree_1.price_EC, BTree_1.price_AC))"
      ],
      "execution_count": null,
      "outputs": [
        {
          "output_type": "stream",
          "text": [
            "Monte Carlo:  EC price = 2.346450, and the C.I. = [2.272349, 2.420552]\n",
            "M = 50\n",
            "Binomial tree model: EC price = 2.551682, and AC price = 2.662303\n",
            "\n",
            "M = 100\n",
            "Binomial tree model: EC price = 2.379472, and AC price = 2.507866\n",
            "\n",
            "M = 150\n",
            "Binomial tree model: EC price = 2.352676, and AC price = 2.489853\n",
            "\n",
            "M = 200\n",
            "Binomial tree model: EC price = 2.344208, and AC price = 2.484708\n",
            "\n",
            "M = 250\n",
            "Binomial tree model: EC price = 2.341091, and AC price = 2.482208\n",
            "\n",
            "M = 300\n",
            "Binomial tree model: EC price = 2.338750, and AC price = 2.480469\n",
            "\n"
          ],
          "name": "stdout"
        }
      ]
    },
    {
      "cell_type": "code",
      "metadata": {
        "id": "I4XsWg0uShL_",
        "colab": {
          "base_uri": "https://localhost:8080/",
          "height": 355
        },
        "outputId": "80adc346-c0ca-427f-9aeb-93218f6a25ce"
      },
      "source": [
        "Tree_EC_2 = []\n",
        "Tree_AC_2 = []\n",
        "\n",
        "sim_mean, sim_std = Monte_Carlo()\n",
        "print(\"Monte Carlo:  EC price = %4f, and the C.I. = [%4f, %4f]\"%(sim_mean, sim_mean - 2*sim_std, sim_mean + 2*sim_std))\n",
        "\n",
        "for i in range(len(M_list)):\n",
        "  d['M'] = M_list[i]\n",
        "  print(\"M = %d\" % d['M'])\n",
        "  BTree_2 = Binomial_tree()\n",
        "  BTree_2.build_tree(spaced = 'log')\n",
        "  BTree_2.backward_induction()\n",
        "  Tree_EC_2.append(BTree_2.price_EC)\n",
        "  Tree_AC_2.append(BTree_2.price_AC)\n",
        "  print(\"Binomial tree model: EC price = %4f, and AC price = %4f\\n\" % (BTree_2.price_EC, BTree_2.price_AC))"
      ],
      "execution_count": null,
      "outputs": [
        {
          "output_type": "stream",
          "text": [
            "Monte Carlo:  EC price = 2.323843, and the C.I. = [2.258934, 2.388753]\n",
            "M = 50\n",
            "Binomial tree model: EC price = 2.496210, and AC price = 2.610177\n",
            "\n",
            "M = 100\n",
            "Binomial tree model: EC price = 2.360456, and AC price = 2.494568\n",
            "\n",
            "M = 150\n",
            "Binomial tree model: EC price = 2.347864, and AC price = 2.487504\n",
            "\n",
            "M = 200\n",
            "Binomial tree model: EC price = 2.341609, and AC price = 2.482405\n",
            "\n",
            "M = 250\n",
            "Binomial tree model: EC price = 2.338758, and AC price = 2.480581\n",
            "\n",
            "M = 300\n",
            "Binomial tree model: EC price = 2.337101, and AC price = 2.479631\n",
            "\n"
          ],
          "name": "stdout"
        }
      ]
    },
    {
      "cell_type": "code",
      "metadata": {
        "id": "Yw8wXx59L4yp"
      },
      "source": [
        "import matplotlib.pyplot as plt"
      ],
      "execution_count": null,
      "outputs": []
    },
    {
      "cell_type": "code",
      "metadata": {
        "id": "eCmCF8SjL9NN",
        "colab": {
          "base_uri": "https://localhost:8080/",
          "height": 295
        },
        "outputId": "74f2a8e4-a112-4782-9e15-283362e0465f"
      },
      "source": [
        "x = M_list\n",
        "y1, y2, y3, y4 = Tree_EC_1, Tree_AC_1, Tree_EC_2, Tree_AC_2\n",
        "plt.plot(x, y1, label = \"European option - linearly spaced\")\n",
        "plt.plot(x, y2, label = \"American option - linearly spaced\")\n",
        "plt.plot(x, y3, label = \"European option - logarithmically spaced\")\n",
        "plt.plot(x, y4, label = \"American option - logarithmically spaced\")\n",
        "plt.xlabel(\"M\")\n",
        "plt.ylabel(\"Price\")\n",
        "plt.title(\"Convergence Trend\")\n",
        "plt.legend()\n",
        "plt.show()\n",
        "plt.close()"
      ],
      "execution_count": null,
      "outputs": [
        {
          "output_type": "display_data",
          "data": {
            "image/png": "[encoded data removed]",
            "text/plain": [
              "<Figure size 432x288 with 1 Axes>"
            ]
          },
          "metadata": {
            "tags": [],
            "needs_background": "light"
          }
        }
      ]
    },
    {
      "cell_type": "code",
      "metadata": {
        "id": "OWQD5k11PR-v",
        "colab": {
          "base_uri": "https://localhost:8080/",
          "height": 295
        },
        "outputId": "8180aa88-9372-4b85-e615-fb67379c2a21"
      },
      "source": [
        "plt.plot(Tree_AC)\n",
        "plt.xlabel(\"M\")\n",
        "plt.ylabel(\"American oprion price\")\n",
        "plt.title(\"Convergence Trend\")\n",
        "plt.show()\n",
        "plt.close()"
      ],
      "execution_count": null,
      "outputs": [
        {
          "output_type": "display_data",
          "data": {
            "image/png": "[encoded data removed]",
            "text/plain": [
              "<Figure size 432x288 with 1 Axes>"
            ]
          },
          "metadata": {
            "tags": [],
            "needs_background": "light"
          }
        }
      ]
    },
    {
      "cell_type": "code",
      "metadata": {
        "id": "LBzz231GsXzA"
      },
      "source": [
        "BTree.print()"
      ],
      "execution_count": null,
      "outputs": []
    }
  ]
}