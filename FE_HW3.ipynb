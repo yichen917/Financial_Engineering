{
  "cells": [
    {
      "cell_type": "markdown",
      "metadata": {
        "id": "4mdfYmG7-QHG"
      },
      "source": [
        "### FE HW3"
      ]
    },
    {
      "cell_type": "code",
      "execution_count": null,
      "metadata": {
        "id": "QaGIadkd-QHQ"
      },
      "outputs": [],
      "source": [
        "import numpy as np\n",
        "import pandas as pd"
      ]
    },
    {
      "cell_type": "markdown",
      "metadata": {
        "id": "yA6yjxuA-QHX"
      },
      "source": [
        "### One step running"
      ]
    },
    {
      "cell_type": "code",
      "execution_count": null,
      "metadata": {
        "id": "LrRSdbG9-QHY"
      },
      "outputs": [],
      "source": [
        "def cal_payoff(z):\n",
        "    r = z.dot(A)\n",
        "    columns = []\n",
        "    for i in range(n):\n",
        "        columns.append('r'+str(i+1))\n",
        "    df = pd.DataFrame(r, columns = columns)\n",
        "\n",
        "    mu = np.zeros(n)\n",
        "    col_name = []\n",
        "    for i in range(n):\n",
        "        idx = str(i+1)\n",
        "        col_name.append('ST_'+idx)\n",
        "        mu[i] = np.log(d['S'+idx+'0']) + (d['r'] - d['q'+idx] - (d['sigma'+idx] ** 2)/2) * d['T'] # mu = ln(S_i0) + (r_i - q_i -sigma_i^2/2)*T\n",
        "        df['ln(ST_'+idx+')'] = df['r'+idx] + mu[i] # shift mean\n",
        "        df['ST_' + idx] = np.exp(df['ln(ST_'+idx+')']) # take exp\n",
        "    df['zero'] = 0\n",
        "    df['max-K'] = df[col_name].max(axis=1) - d['K']\n",
        "    df['Payoff'] = df[['max-K', 'zero']].max(axis=1)\n",
        "    return df['Payoff'].mean() * np.exp(-d['r'] * d['T'])"
      ]
    },
    {
      "cell_type": "code",
      "execution_count": null,
      "metadata": {
        "id": "_uc9BxQv-QHa"
      },
      "outputs": [],
      "source": [
        "def simulation():\n",
        "    mean= np.zeros(3)\n",
        "    std = np.zeros(3)\n",
        "    val_arr = np.zeros(d['rep_num'])\n",
        "    val_1_arr = np.zeros(d['rep_num'])\n",
        "    val_2_arr = np.zeros(d['rep_num'])\n",
        "    for rep in range(d['rep_num']):\n",
        "        z = np.zeros((d['sim_num'], n))\n",
        "        z1 = np.zeros((d['sim_num'], n))\n",
        "        for i in range(n):\n",
        "            z[:,i] = np.random.normal(0, 1, d['sim_num'])\n",
        "\n",
        "        z1[:int(d['sim_num']/2)] = z[:int(d['sim_num']/2)]\n",
        "        z1[int(d['sim_num']/2):] = -z[:int(d['sim_num']/2)]\n",
        "        for i in range(n):\n",
        "            z1[:,i] = z1[:,i]/z1[:,i].std()\n",
        "\n",
        "        C_hat = pd.DataFrame(z1).cov().values\n",
        "        B = Cholesky_decomposition(C_hat)\n",
        "        z2 = z1.dot(np.linalg.inv(B))\n",
        "        C_new = pd.DataFrame(z2).cov().values\n",
        "        #print(C_new)\n",
        "        val_arr[rep] = cal_payoff(z)\n",
        "        val_1_arr[rep] = cal_payoff(z1)\n",
        "        val_2_arr[rep] = cal_payoff(z2)\n",
        "\n",
        "    mean[0], std[0] = val_arr.mean(), val_arr.std()\n",
        "    mean[1], std[1] = val_1_arr.mean(), val_1_arr.std()\n",
        "    mean[2], std[2] = val_2_arr.mean(), val_2_arr.std()\n",
        "    return mean, std, C_hat"
      ]
    },
    {
      "cell_type": "code",
      "execution_count": null,
      "metadata": {
        "id": "rrDNnap3-QHb"
      },
      "outputs": [],
      "source": [
        "def Cholesky_decomposition(mat_C):\n",
        "    A = np.zeros((n,n))\n",
        "    # Step 1\n",
        "    A[0][0] = np.sqrt(mat_C[0][0])\n",
        "    #print(\"mat_C[0][0] = \", mat_C[0][0])\n",
        "    for j in range(n):\n",
        "        A[0][j] = mat_C[0][j]/A[0][0]\n",
        "\n",
        "    # Step 2\n",
        "    for i in range(1,n-1):\n",
        "        temp = mat_C[i][i]\n",
        "        for k in range(i):\n",
        "            temp -= (A[k][i] ** 2)\n",
        "        A[i][i] = np.sqrt(temp)\n",
        "        #print(\"temp in step 2 = \", temp)\n",
        "\n",
        "        # Step 3\n",
        "        for j in range(i+1, n):\n",
        "            temp = mat_C[i][j]\n",
        "            for k in range(i):\n",
        "                temp -= A[k][i] * A[k][j]\n",
        "            A[i][j] = temp/A[i][i]\n",
        "\n",
        "    # Step 4\n",
        "    temp = mat_C[n-1][n-1]\n",
        "    #print(\"---------------------\")\n",
        "    #print(\"start_temp in step 4 = \", temp)\n",
        "    for k in range(n-1):\n",
        "        temp -= (A[k][n-1] **2)\n",
        "        #print(\"K = \", k, ', temp = ', temp)\n",
        "    A[n-1][n-1] = np.sqrt(round(temp, 12))\n",
        "    #print(\"end_temp in step 4 = \", temp)\n",
        "    #print(\"---------------------\")\n",
        "    return A"
      ]
    },
    {
      "cell_type": "code",
      "execution_count": null,
      "metadata": {
        "id": "kcR0WQ5g-QHd",
        "outputId": "ef9bdbb8-8dc4-4b8d-e89a-c1beec353b1e"
      },
      "outputs": [
        {
          "name": "stdout",
          "output_type": "stream",
          "text": [
            "Basic requirement: Option value = 30.257542 and 95 percent C.I. = [29.552744, 30.962340]\n",
            "Bonus 1:           Option value = 30.409941 and 95 percent C.I. = [30.220627, 30.599256]\n",
            "Bonus 2:           Option value = 30.399410 and 95 percent C.I. = [30.242108, 30.556712]\n"
          ]
        }
      ],
      "source": [
        "# Read files\n",
        "d = {}\n",
        "\n",
        "with open('HW3_param_3.txt','r') as file:\n",
        "    line = file.readline().strip('\\n')\n",
        "    while line:\n",
        "        key, value = line.split('=')[0], float(line.split('=')[1])\n",
        "        d[key] = value\n",
        "        line = file.readline().strip('\\n')\n",
        "\n",
        "d['sim_num'] = int(d['sim_num'])\n",
        "d['rep_num'] = int(d['rep_num'])\n",
        "d['n'] = int(d['n'])\n",
        "# print(\"Parameters:\\n\", d)\n",
        "\n",
        "n = d['n']\n",
        "rho_matrix = np.zeros((n,n))\n",
        "sigma_arr = np.zeros(n)\n",
        "for i in range(n):\n",
        "    sigma_arr[i] = d['sigma'+str(i+1)]\n",
        "    for j in range(n):\n",
        "        if i==j:\n",
        "            rho_matrix[i][j] = 1\n",
        "        elif i<j:\n",
        "            rho_matrix[i][j] = d['rho'+str(i+1)+str(j+1)] # eg: rho12\n",
        "        else:\n",
        "            rho_matrix[i][j] = d['rho'+str(j+1)+str(i+1)]\n",
        "\n",
        "# Build C matrix\n",
        "C = np.zeros((n,n))\n",
        "for i in range(n):\n",
        "    for j in range(n):\n",
        "        C[i][j] = rho_matrix[i][j] * sigma_arr[i] * sigma_arr[j] * d['T']\n",
        "# print(\"matrix C:\\n:\", C)\n",
        "# Build A matrix\n",
        "A = Cholesky_decomposition(C)\n",
        "# print(\"matrix A:\\n\", A)\n",
        "# Simulate\n",
        "mean, std, C_hat = simulation()\n",
        "# print(\"std in three cases: \", std[0], std[1], std[2])\n",
        "# print(std[1]>std[2])\n",
        "for i in range(3):\n",
        "    if i==0 :\n",
        "        print(\"Basic requirement: \", end='')\n",
        "    else:\n",
        "        print(\"Bonus \" + str(i) + \":           \", end='')\n",
        "    print(\"Option value = %6f and 95 percent C.I. = [%6f, %6f]\" % (mean[i], mean[i]-2*std[i], mean[i]+2*std[i]))"
      ]
    },
    {
      "cell_type": "code",
      "execution_count": null,
      "metadata": {
        "id": "Z6mLOSv_-QHl"
      },
      "outputs": [],
      "source": []
    },
    {
      "cell_type": "code",
      "execution_count": null,
      "metadata": {
        "id": "b0-nqXVW-QHm"
      },
      "outputs": [],
      "source": []
    }
  ],
  "metadata": {
    "kernelspec": {
      "display_name": "Python 3",
      "language": "python",
      "name": "python3"
    },
    "language_info": {
      "codemirror_mode": {
        "name": "ipython",
        "version": 3
      },
      "file_extension": ".py",
      "mimetype": "text/x-python",
      "name": "python",
      "nbconvert_exporter": "python",
      "pygments_lexer": "ipython3",
      "version": "3.7.3"
    },
    "colab": {
      "provenance": []
    }
  },
  "nbformat": 4,
  "nbformat_minor": 0
}