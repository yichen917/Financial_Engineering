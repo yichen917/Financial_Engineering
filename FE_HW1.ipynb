{
  "cells": [
    {
      "cell_type": "code",
      "execution_count": null,
      "metadata": {
        "id": "6GORDq5X-a_S"
      },
      "outputs": [],
      "source": [
        "import numpy as np\n",
        "import pandas as pd\n",
        "from scipy.stats import norm"
      ]
    },
    {
      "cell_type": "code",
      "execution_count": null,
      "metadata": {
        "id": "pmtMQBYp-a_X"
      },
      "outputs": [],
      "source": [
        "class pricing_formula:\n",
        "    def __init__(self, var):\n",
        "        self.S0, self.r, self.q, self.sigma, self.T, self.K1, self.K2, self.K3, self.K4 = var\n",
        "        self.cal_d()\n",
        "        #self.print_d()\n",
        "        self.cal_Nd()\n",
        "        #self.print_Nd()\n",
        "        self.cal_E()\n",
        "        #self.print_E()\n",
        "\n",
        "    def cal_d(self):\n",
        "        self.d = []\n",
        "        self.d.append(( np.log(self.S0/self.K1) + (self.r-self.q+(self.sigma**2)/2)*self.T )/ (self.sigma*np.sqrt(self.T)))\n",
        "        self.d.append(( np.log(self.S0/self.K2) + (self.r-self.q+(self.sigma**2)/2)*self.T )/ (self.sigma*np.sqrt(self.T)))\n",
        "        self.d.append(( np.log(self.S0/self.K1) + (self.r-self.q-(self.sigma**2)/2)*self.T )/ (self.sigma*np.sqrt(self.T)))\n",
        "        self.d.append(( np.log(self.S0/self.K2) + (self.r-self.q-(self.sigma**2)/2)*self.T )/ (self.sigma*np.sqrt(self.T)))\n",
        "        self.d.append(( np.log(self.S0/self.K3) + (self.r-self.q-(self.sigma**2)/2)*self.T )/ (self.sigma*np.sqrt(self.T)))\n",
        "        self.d.append(( np.log(self.S0/self.K4) + (self.r-self.q-(self.sigma**2)/2)*self.T )/ (self.sigma*np.sqrt(self.T)))\n",
        "        self.d.append(( np.log(self.S0/self.K3) + (self.r-self.q+(self.sigma**2)/2)*self.T )/ (self.sigma*np.sqrt(self.T)))\n",
        "        self.d.append(( np.log(self.S0/self.K4) + (self.r-self.q+(self.sigma**2)/2)*self.T )/ (self.sigma*np.sqrt(self.T)))\n",
        "\n",
        "    def print_d(self):\n",
        "        for i in range(8):\n",
        "            print(\"d\"+str(i+1)+\" = \", self.d[i])\n",
        "\n",
        "    def cal_Nd(self):\n",
        "        self.Nd = []\n",
        "        for i in range(8):\n",
        "            self.Nd.append(norm.cdf(self.d[i]))\n",
        "\n",
        "    def print_Nd(self):\n",
        "        for i in range(8):\n",
        "            print(\"N(d\"+str(i+1)+\") = \", self.Nd[i])\n",
        "\n",
        "    def cal_E(self):\n",
        "        self.E1 = self.S0 * np.exp((self.r-self.q)*self.T) * ((self.Nd[0] - self.Nd[1])) - self.K1*(self.Nd[2] - self.Nd[3])\n",
        "        self.E2 = (self.K2-self.K1) * (self.Nd[3] - self.Nd[4])\n",
        "        self.E3 = ((self.K2-self.K1)/(self.K3-self.K4)) * ( self.S0 * np.exp((self.r-self.q)*self.T) * (self.Nd[6]-self.Nd[7]) - self.K4 * (self.Nd[4]-self.Nd[5]))\n",
        "\n",
        "    def print_E(self):\n",
        "        print(\"E1 = \", self.E1)\n",
        "        print(\"E2 = \", self.E2)\n",
        "        print(\"E3 = \", self.E3)\n",
        "\n",
        "    def cal_price(self):\n",
        "        self.c = np.exp(-self.r * self.T) * (self.E1 + self.E2 + self.E3)\n",
        "        return self.c\n",
        "\n",
        "    def Monte_Carlo(self):\n",
        "        self.mean = np.log(self.S0) + (self.r-self.q-(self.sigma**2)/2) * self.T\n",
        "        self.std = self.sigma * np.sqrt(self.T)\n",
        "\n",
        "        self.mean_array = np.zeros(20)\n",
        "        for i in range(20):\n",
        "            sample = np.random.normal(self.mean, self.std, 10000)\n",
        "            df = pd.DataFrame(sample, columns = ['ln(S_T)'])\n",
        "            df['S_T'] = np.exp(df)\n",
        "            df['Payoff1'] = list(map(lambda x: x-self.K1 if self.K1 <= x < self.K2 else 0, df['S_T']))\n",
        "            df['Payoff2'] = list(map(lambda x: self.K2-self.K1 if (self.K2 <= x < self.K3) else 0, df['S_T']))\n",
        "            df['Payoff3'] = list(map(lambda x: (self.K2-self.K1)/(self.K3-self.K4)*(x-self.K4) if self.K3 <= x < self.K4 else 0, df['S_T']))\n",
        "            df2= pd.concat([df['Payoff1'],df['Payoff2'],df['Payoff3']], axis=1)\n",
        "            df['Payoff'] = df2.max(axis=1)\n",
        "            df['Value'] = df['Payoff'] * np.exp(-self.r * self.T)\n",
        "            mean = df['Value'].mean()\n",
        "            self.mean_array[i] = mean\n",
        "\n",
        "        mean = self.mean_array.mean()\n",
        "        std = self.mean_array.std()\n",
        "        #print(\"Confidence interval = [\", mean-2*std, \",\", mean+2*std,\"]\")\n",
        "        return  mean-2*std,  mean+2*std"
      ]
    },
    {
      "cell_type": "code",
      "execution_count": null,
      "metadata": {
        "id": "RrIhGvjs-a_q",
        "outputId": "3f4cef79-d630-42cb-bf4a-c377d06034e9"
      },
      "outputs": [
        {
          "name": "stdin",
          "output_type": "stream",
          "text": [
            "Please type S0 50\n",
            "Please type r 0.04\n",
            "Please type q 0.01\n",
            "Please type sigma 0.3\n",
            "Please type T 0.5\n",
            "Please type K1 45\n",
            "Please type K2 48\n",
            "Please type K3 55\n",
            "Please type K4 60\n"
          ]
        }
      ],
      "source": [
        "order = ['S0', 'r', 'q', 'sigma', 'T', 'K1','K2', 'K3', 'K4']\n",
        "var = []\n",
        "for i in range(len(order)):\n",
        "    var.append(float(input(\"Please type \" + order[i])))"
      ]
    },
    {
      "cell_type": "code",
      "execution_count": null,
      "metadata": {
        "id": "pXZxNxn3-a_v",
        "outputId": "1c429408-6170-42d5-c663-97b7984b7a59"
      },
      "outputs": [
        {
          "name": "stdout",
          "output_type": "stream",
          "text": [
            "1.1014989375333561\n"
          ]
        }
      ],
      "source": [
        "model = pricing_formula(var)\n",
        "price = model.cal_price()\n",
        "print(price)"
      ]
    },
    {
      "cell_type": "code",
      "execution_count": null,
      "metadata": {
        "id": "zxuyHDFt-a_w",
        "outputId": "25ffb1b8-4201-4fd5-f52d-090523422d29"
      },
      "outputs": [
        {
          "name": "stdout",
          "output_type": "stream",
          "text": [
            "Confidence interval = [ 1.0826858221723825 , 1.1148629779647024 ]\n"
          ]
        }
      ],
      "source": [
        "lb, ub = model.Monte_Carlo()\n",
        "print(\"Confidence interval = [\", lb, \",\", ub,\"]\")"
      ]
    },
    {
      "cell_type": "code",
      "execution_count": null,
      "metadata": {
        "id": "8bBy9KYC-a_x"
      },
      "outputs": [],
      "source": [
        "test = []\n",
        "for i in range(500):\n",
        "    test.append(model.Monte_Carlo())"
      ]
    },
    {
      "cell_type": "code",
      "execution_count": null,
      "metadata": {
        "id": "QkKTq4KP-a_x",
        "outputId": "f1fef5da-9a14-4db2-f176-b4a261cd2856"
      },
      "outputs": [
        {
          "name": "stdout",
          "output_type": "stream",
          "text": [
            "500\n"
          ]
        }
      ],
      "source": [
        "isin = 0\n",
        "for i in range(500):\n",
        "    if test[i][0] <= price <= test[i][1]:\n",
        "        isin += 1\n",
        "print(isin)"
      ]
    },
    {
      "cell_type": "code",
      "execution_count": null,
      "metadata": {
        "id": "cxEh5K1m-a_y"
      },
      "outputs": [],
      "source": []
    }
  ],
  "metadata": {
    "kernelspec": {
      "display_name": "Python 3",
      "language": "python",
      "name": "python3"
    },
    "language_info": {
      "codemirror_mode": {
        "name": "ipython",
        "version": 3
      },
      "file_extension": ".py",
      "mimetype": "text/x-python",
      "name": "python",
      "nbconvert_exporter": "python",
      "pygments_lexer": "ipython3",
      "version": "3.7.3"
    },
    "colab": {
      "provenance": []
    }
  },
  "nbformat": 4,
  "nbformat_minor": 0
}