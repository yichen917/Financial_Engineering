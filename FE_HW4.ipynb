{
  "nbformat": 4,
  "nbformat_minor": 0,
  "metadata": {
    "kernelspec": {
      "display_name": "Python 3",
      "language": "python",
      "name": "python3"
    },
    "language_info": {
      "codemirror_mode": {
        "name": "ipython",
        "version": 3
      },
      "file_extension": ".py",
      "mimetype": "text/x-python",
      "name": "python",
      "nbconvert_exporter": "python",
      "pygments_lexer": "ipython3",
      "version": "3.7.3"
    },
    "colab": {
      "provenance": [],
      "collapsed_sections": [
        "tzNCp_QxLKmN"
      ]
    }
  },
  "cells": [
    {
      "cell_type": "code",
      "metadata": {
        "id": "z0K4FemsXQCz"
      },
      "source": [
        "import numpy as np\n",
        "import pandas as pd"
      ],
      "execution_count": null,
      "outputs": []
    },
    {
      "cell_type": "markdown",
      "metadata": {
        "id": "tzNCp_QxLKmN"
      },
      "source": [
        "### Monte Carlo"
      ]
    },
    {
      "cell_type": "code",
      "metadata": {
        "id": "D55VJH-DLTkV"
      },
      "source": [
        "def Monte_Carlo():\n",
        "    mean_arr = -np.ones(d['rep_num'])\n",
        "    max_list = []\n",
        "\n",
        "    for i in range(d['rep_num']):\n",
        "        chosen_matrix = np.zeros((d['sim_num'], d['n']+2))\n",
        "        chosen_matrix[:,0] = np.log(d['Smax_t'])\n",
        "        chosen_matrix[:,1] = np.log(d['St'])\n",
        "\n",
        "        S_change_mean = (d['r']-d['q']-(d['sigma']**2)/2)*d['delta_t']\n",
        "        S_std = d['sigma'] * np.sqrt(d['delta_t'])\n",
        "\n",
        "        for t in range(2, d['n']+2):\n",
        "          change_arr = np.random.normal(S_change_mean, S_std, d['sim_num'])\n",
        "          chosen_matrix[:, t] = chosen_matrix[:, t-1] + change_arr\n",
        "        chosen_matrix = np.exp(chosen_matrix)\n",
        "        max_list = np.max(chosen_matrix, axis=1)\n",
        "        payoff = max_list - chosen_matrix[:,d['n']+1]\n",
        "        mean_arr[i] = payoff.mean() *np.exp(-d['r'] * (d['T'] - d['t']))\n",
        "    if any(m < 0 for m in mean_arr):\n",
        "        print(\"There is negative element in mean_arr.\")\n",
        "    return mean_arr.mean(), mean_arr.std()"
      ],
      "execution_count": null,
      "outputs": []
    },
    {
      "cell_type": "markdown",
      "metadata": {
        "id": "meavTbsKKGJs"
      },
      "source": [
        "### Tree"
      ]
    },
    {
      "cell_type": "code",
      "metadata": {
        "id": "sFkT88TxXQD7"
      },
      "source": [
        "class S_node():\n",
        "    def __init__(self, S):\n",
        "        self.S = S\n",
        "        self.max_list = []\n",
        "        self.value_EP = []\n",
        "        self.value_AP = []\n",
        "    def set_max_list(self, max_list):\n",
        "        self.max_list = max_list\n",
        "    def update_max_list(self,parent_max_list): #parent_max_list is decreasing\n",
        "        temp = np.array(parent_max_list)\n",
        "        to_add = temp[temp >= self.S].tolist()\n",
        "        self.max_list += to_add\n",
        "        if (self.S not in self.max_list) and (len(to_add)<len(temp)): # < represents that there are elements being removed, so add S into the max_list\n",
        "            self.max_list.append(self.S)\n",
        "        self.max_list = list(set(self.max_list))\n",
        "        self.max_list.sort(reverse = True)\n",
        "    def calculate_payoff(self, uparent_node, dparent_node, p, discount_factor, terminal = False): ##\n",
        "        if terminal == True:\n",
        "          for i in range(len(self.max_list)):\n",
        "            self.value_EP.append(np.max(self.max_list[i]- self.S, 0))\n",
        "            self.value_AP.append(np.max(self.max_list[i]- self.S, 0))\n",
        "        else:\n",
        "          for k in range(len(self.max_list)):\n",
        "            # print(\"k = \",k)\n",
        "            added = False\n",
        "            for i in range(len(uparent_node.max_list)):\n",
        "              # print(\"self maxlist = \", self.max_list[0], \", up parent max first = \",uparent_node.max_list[0])\n",
        "              # while self.max_list[k] <= uparent_node.max_list[i]:\n",
        "              # print(\"i = \",i)\n",
        "              if abs(self.max_list[k] - uparent_node.max_list[i]) < 1e-12:\n",
        "                up_put_EP = uparent_node.value_EP[i]\n",
        "                up_put_AP = uparent_node.value_AP[i]\n",
        "                added = True\n",
        "                break\n",
        "            if not added: # not in max_list\n",
        "              index = uparent_node.max_list.index(uparent_node.S)\n",
        "              up_put_EP = uparent_node.value_EP[index]\n",
        "              up_put_AP = uparent_node.value_AP[index]\n",
        "              added = True\n",
        "            if not added:\n",
        "              print(\"Not finding corresponding value from up parent node.\")\n",
        "\n",
        "            #print(\"up put EP = %4f, up put AP = %4f\" % (up_put_EP, up_put_AP))\n",
        "\n",
        "\n",
        "            added = False\n",
        "            # print(\"Start point: S = %f and dparent first max = %f\" % (self.max_list[k], dparent_node.max_list[i]))\n",
        "            for i in range(len(dparent_node.max_list)):\n",
        "              # while self.max_list[k] <= dparent_node.max_list[i]:\n",
        "              # print(\"S max = \", self.max_list[k], \", max_list[i] = \", dparent_node.max_list[i])\n",
        "              if abs(self.max_list[k] - dparent_node.max_list[i]) < 1e-12:\n",
        "                d_put_EP = dparent_node.value_EP[i]\n",
        "                d_put_AP = dparent_node.value_AP[i]\n",
        "                added = True\n",
        "                break\n",
        "            if not added:\n",
        "              print(\"Not finding corresponding value from down parent node.\")\n",
        "\n",
        "            #print(\"down put EP = %4f, down put AP = %4f\" % (d_put_EP, d_put_AP))\n",
        "            value_EP = (p * up_put_EP + (1 - p) * d_put_EP )* discount_factor\n",
        "            self.value_EP.append(value_EP)\n",
        "            value_AP = np.max([self.max_list[k] - self.S, (p * up_put_AP + (1 - p) * d_put_AP )* discount_factor])\n",
        "            self.value_AP.append(value_AP)\n",
        "            #print(\"value_EP = %f, value_AP = %f\" % (value_EP, value_AP))\n",
        "\n",
        "    def print(self):\n",
        "        print(\"S = %4f\" % self.S)\n",
        "        print(\"S_max list = \", end = '')\n",
        "        print(self.max_list)\n",
        "        print(self.value_EP)\n",
        "        print(self.value_AP)"
      ],
      "execution_count": null,
      "outputs": []
    },
    {
      "cell_type": "code",
      "metadata": {
        "id": "GEDQ8yabXQEI"
      },
      "source": [
        "class Binomial_tree():\n",
        "    def __init__(self):\n",
        "        self.u = np.exp(d['sigma'] * np.sqrt(d['delta_t']))\n",
        "        self.d = np.exp(-d['sigma'] * np.sqrt(d['delta_t']))\n",
        "        self.p = (np.exp((d['r'] -d['q'])*d['delta_t']) - self.d)/(self.u - self.d)\n",
        "\n",
        "    def build_tree(self):\n",
        "        self.nodes = []\n",
        "        start_node = S_node(d['St'])\n",
        "        start_node.set_max_list([np.max([d['St'], d['Smax_t']])])\n",
        "        self.nodes.append([start_node])\n",
        "\n",
        "        u_list = []\n",
        "        d_list = []\n",
        "        for i in range(d['n']):\n",
        "            u_list.append(self.u ** (i+1))\n",
        "            d_list.append(self.d ** (i+1))\n",
        "\n",
        "        for i in range(1, d['n']+1):\n",
        "            self.nodes.append([])\n",
        "            for j in range(i+1):\n",
        "                a = i-j # new_S = St * u**(i-j) * d**(j)}\n",
        "                b = j\n",
        "                if a > b:\n",
        "                    new_S = u_list[a-b-1] * d['St']\n",
        "                elif a < b:\n",
        "                    new_S = d_list[b-a-1] * d['St']\n",
        "                else: # a==b\n",
        "                    new_S = d['St']\n",
        "\n",
        "                new_node = S_node(new_S)\n",
        "                if j==0:\n",
        "                    new_node.update_max_list(self.nodes[i-1][0].max_list)\n",
        "                elif j==i:\n",
        "                    new_node.update_max_list(self.nodes[i-1][i-1].max_list)\n",
        "                else:\n",
        "                    new_node.update_max_list(self.nodes[i-1][j-1].max_list)\n",
        "                    new_node.update_max_list(self.nodes[i-1][j].max_list)\n",
        "\n",
        "                self.nodes[i].append(new_node)\n",
        "                # (self.nodes[i][j]).print()\n",
        "    def build_tree_1(self):\n",
        "        self.nodes = []\n",
        "        start_node = S_node(d['St'])\n",
        "        start_node.set_max_list([np.max([d['St'], d['Smax_t']])])\n",
        "        self.nodes.append([start_node])\n",
        "\n",
        "        u_list = []\n",
        "        d_list = []\n",
        "        for i in range(d['n']):\n",
        "            u_list.append(self.u ** (i+1))\n",
        "            d_list.append(self.d ** (i+1))\n",
        "\n",
        "        for i in range(1, d['n']+1):\n",
        "            self.nodes.append([])\n",
        "            for j in range(i+1):\n",
        "                a = i-j # new_S = St * u**(i-j) * d**(j)}\n",
        "                b = j\n",
        "                if a > b:\n",
        "                    new_S = u_list[a-b-1] * d['St']\n",
        "                elif a < b:\n",
        "                    new_S = d_list[b-a-1] * d['St']\n",
        "                else: # a==b\n",
        "                    new_S = d['St']\n",
        "\n",
        "                new_node = S_node(new_S)\n",
        "                new_max_list = []\n",
        "                new_a = i-j\n",
        "                new_b = j\n",
        "                while new_b >= 0:\n",
        "                  # print(\"new_b = \", new_b)\n",
        "\n",
        "                  if new_a > new_b:\n",
        "                    to_added = u_list[new_a - new_b -1] * d['St']\n",
        "                  elif new_a < new_b:\n",
        "                    to_added = d_list[new_b - new_a -1] * d['St']\n",
        "                  else:\n",
        "                    to_added = d['St']\n",
        "\n",
        "                  if to_added < d['Smax_t']:\n",
        "                    to_added = d['Smax_t']\n",
        "\n",
        "                  new_max_list.append(to_added)\n",
        "                  new_b -= 1\n",
        "\n",
        "                new_max_list = list(set(new_max_list))\n",
        "                new_max_list.sort(reverse = True)\n",
        "                new_node.set_max_list(new_max_list)\n",
        "                self.nodes[i].append(new_node)\n",
        "\n",
        "    def backward_induction(self):\n",
        "        discnt = np.exp(- d['r'] * d['delta_t'])\n",
        "        for i in range(d['n'],-1,-1):\n",
        "          for j in range(len(self.nodes[i])):\n",
        "            if i == d['n']:\n",
        "              self.nodes[i][j].calculate_payoff(uparent_node=None, dparent_node=None, p = self.p, discount_factor = discnt, terminal = True)\n",
        "            else:\n",
        "              #print(\"-------------------------------------------\")\n",
        "              #print(\"i = %d, j = %d\" % (i,j))\n",
        "              self.nodes[i][j].calculate_payoff(uparent_node=self.nodes[i+1][j], dparent_node=self.nodes[i+1][j+1], \\\n",
        "                                                p = self.p, discount_factor = discnt, terminal = False)\n",
        "        self.price_EP = self.nodes[0][0].value_EP[0]\n",
        "        self.price_AP = self.nodes[0][0].value_AP[0]\n",
        "\n",
        "    def print(self):\n",
        "        for i in range(len(self.nodes)):\n",
        "            for j in range(len(self.nodes[i])):\n",
        "                print(\"i, j = %d, %d\" % (i,j))\n",
        "                self.nodes[i][j].print()"
      ],
      "execution_count": null,
      "outputs": []
    },
    {
      "cell_type": "markdown",
      "metadata": {
        "id": "tWlLw1zXKNZV"
      },
      "source": [
        "### Demo"
      ]
    },
    {
      "cell_type": "code",
      "metadata": {
        "id": "3Z_twsMOXQDG",
        "colab": {
          "base_uri": "https://localhost:8080/",
          "height": 212
        },
        "outputId": "c5bac296-218b-465e-c39f-5366e918c4ce"
      },
      "source": [
        "# Read files\n",
        "d = {}\n",
        "\n",
        "with open('HW4_params_3.txt','r') as file:\n",
        "    line = file.readline().strip('\\n')\n",
        "    while line:\n",
        "        key, value = line.split('=')[0], float(line.split('=')[1])\n",
        "        d[key] = value\n",
        "        line = file.readline().strip('\\n')\n",
        "d['n'] = int(d['n'])\n",
        "d['sim_num'] = int(d['sim_num'])\n",
        "d['rep_num'] = int(d['rep_num'])\n",
        "d['delta_t'] = (d['T'] - d['t'])/d['n']\n",
        "d"
      ],
      "execution_count": null,
      "outputs": [
        {
          "output_type": "execute_result",
          "data": {
            "text/plain": [
              "{'Smax_t': 70.0,\n",
              " 'St': 50.0,\n",
              " 'T': 0.25,\n",
              " 'delta_t': 0.0025,\n",
              " 'n': 100,\n",
              " 'q': 0.0,\n",
              " 'r': 0.1,\n",
              " 'rep_num': 20,\n",
              " 'sigma': 0.4,\n",
              " 'sim_num': 10000,\n",
              " 't': 0.0}"
            ]
          },
          "metadata": {
            "tags": []
          },
          "execution_count": 10
        }
      ]
    },
    {
      "cell_type": "code",
      "metadata": {
        "id": "IHMs0XsvXQEU",
        "colab": {
          "base_uri": "https://localhost:8080/",
          "height": 52
        },
        "outputId": "7a68aa44-a185-4f9a-bd5a-487717c5c6f5"
      },
      "source": [
        "# %%time\n",
        "BTree = Binomial_tree()\n",
        "BTree.build_tree()\n",
        "BTree.backward_induction()\n",
        "print(\"Binomial tree model: EP price = %4f, and AP price = %4f\" % (BTree.price_EP, BTree.price_AP))\n",
        "# %%time\n",
        "sim_mean, sim_std = Monte_Carlo()\n",
        "print(\"Monte Carlo:  EP price = %4f, and the C.I. = [%4f, %4f]\"%(sim_mean, sim_mean - 2*sim_std, sim_mean + 2*sim_std))"
      ],
      "execution_count": null,
      "outputs": [
        {
          "output_type": "stream",
          "text": [
            "Binomial tree model: EP price = 18.794611, and AP price = 20.000000\n",
            "Monte Carlo:  EP price = 18.776202, and the C.I. = [18.588284, 18.964119]\n"
          ],
          "name": "stdout"
        }
      ]
    },
    {
      "cell_type": "code",
      "metadata": {
        "id": "kkIHnqGxXQEq",
        "colab": {
          "base_uri": "https://localhost:8080/",
          "height": 35
        },
        "outputId": "722476fb-7006-4f07-c5ff-885382db9f89"
      },
      "source": [
        "# %%time\n",
        "BTree_1 = Binomial_tree()\n",
        "BTree_1.build_tree_1()\n",
        "BTree_1.backward_induction()\n",
        "print(\"Binomial tree model: EP price = %4f, and AP price = %4f\" % (BTree_1.price_EP, BTree_1.price_AP))"
      ],
      "execution_count": null,
      "outputs": [
        {
          "output_type": "stream",
          "text": [
            "Binomial tree model: EP price = 7.236948, and AP price = 7.439574\n"
          ],
          "name": "stdout"
        }
      ]
    },
    {
      "cell_type": "code",
      "metadata": {
        "id": "pQsI7Bvydo9r"
      },
      "source": [],
      "execution_count": null,
      "outputs": []
    }
  ]
}